{
 "cells": [
  {
   "cell_type": "code",
   "execution_count": 1,
   "id": "03cd023a",
   "metadata": {},
   "outputs": [
    {
     "data": {
      "text/plain": [
       "'3.7.7'"
      ]
     },
     "execution_count": 1,
     "metadata": {},
     "output_type": "execute_result"
    }
   ],
   "source": [
    "import tensorflow\n",
    "from tensorflow.keras.datasets import imdb # new! \n",
    "from tensorflow.keras.preprocessing.sequence import pad_sequences #new!\n",
    "from tensorflow.keras.models import Sequential\n",
    "from tensorflow.keras.layers import Embedding # new!\n",
    "from tensorflow.keras.callbacks import ModelCheckpoint # new! \n",
    "import os # new! \n",
    "from sklearn.metrics import roc_auc_score, roc_curve # new!\n",
    "import pandas as pd\n",
    "from tensorflow.keras.preprocessing.sequence import pad_sequences\n",
    "from tensorflow.keras.layers import Masking\n",
    "from tensorflow.keras import Sequential\n",
    "from tensorflow.keras.preprocessing.text import Tokenizer\n",
    "import tensorflow as tf\n",
    "from tensorflow.keras.layers import Embedding, LSTM,Dropout,Flatten ,Dense, GRU,Bidirectional\n",
    "import matplotlib.pyplot as plt\n",
    "import tensorflow_datasets as tfds\n",
    "from tensorflow.keras.datasets import imdb\n",
    "from tensorflow.keras.models import model_from_json\n",
    "from tensorflow.keras.models import model_from_json\n",
    "import numpy as np\n",
    "import json\n",
    "tf.__version__\n",
    "from platform import python_version\n",
    "np.version.version\n",
    "python_version()"
   ]
  },
  {
   "cell_type": "markdown",
   "id": "37eb2453",
   "metadata": {},
   "source": [
    "# Load Data"
   ]
  },
  {
   "cell_type": "code",
   "execution_count": 2,
   "id": "9e207141",
   "metadata": {},
   "outputs": [],
   "source": [
    "imdb = tfds.load(\"imdb_reviews\", as_supervised=True)"
   ]
  },
  {
   "cell_type": "code",
   "execution_count": 3,
   "id": "9c07c7ac",
   "metadata": {},
   "outputs": [],
   "source": [
    "train_set = imdb[\"train\"]\n",
    "test_set = imdb[\"test\"]"
   ]
  },
  {
   "cell_type": "code",
   "execution_count": null,
   "id": "c1c53991",
   "metadata": {},
   "outputs": [],
   "source": []
  },
  {
   "cell_type": "markdown",
   "id": "ae2dec33",
   "metadata": {},
   "source": [
    "# Train, Test  Split "
   ]
  },
  {
   "cell_type": "code",
   "execution_count": 4,
   "id": "0fa7c067",
   "metadata": {},
   "outputs": [],
   "source": [
    "train_sentences = []\n",
    "train_labels = []\n",
    "test_sentences = []\n",
    "test_labels = []\n"
   ]
  },
  {
   "cell_type": "code",
   "execution_count": 5,
   "id": "25c3b0a2",
   "metadata": {},
   "outputs": [],
   "source": [
    "for sentence, label in train_set:\n",
    "    train_sentences.append(str(sentence.numpy()))\n",
    "    train_labels.append(label.numpy())"
   ]
  },
  {
   "cell_type": "code",
   "execution_count": 6,
   "id": "4bd870a0",
   "metadata": {},
   "outputs": [],
   "source": [
    "for sentence, label in test_set:\n",
    "    test_sentences.append(str(sentence.numpy()))\n",
    "    test_labels.append(label.numpy())"
   ]
  },
  {
   "cell_type": "code",
   "execution_count": 7,
   "id": "50a59e7e",
   "metadata": {},
   "outputs": [],
   "source": [
    "train_label = np.array(train_labels)\n",
    "test_label = np.array(test_labels)"
   ]
  },
  {
   "cell_type": "markdown",
   "id": "6465b5d3",
   "metadata": {},
   "source": [
    "# Hyperparameters"
   ]
  },
  {
   "cell_type": "code",
   "execution_count": 8,
   "id": "95197fc2",
   "metadata": {},
   "outputs": [],
   "source": [
    "#boutput_dir = \"model_output/dense\"\n",
    "vocab_size = 5000\n",
    "embedding_dim = 64\n",
    "max_length = 120\n",
    "num_epoch =5\n",
    "epochs = 20\n",
    "batch_size = 128\n",
    "trunc_type = \"post\"\n",
    "oov_tok = \"<OOV>\"\n",
    "n_dense = 64\n",
    "dropout_dense = 0.2"
   ]
  },
  {
   "cell_type": "code",
   "execution_count": null,
   "id": "1c19a185",
   "metadata": {},
   "outputs": [],
   "source": []
  },
  {
   "cell_type": "markdown",
   "id": "2114f1e9",
   "metadata": {},
   "source": [
    "# Preprocessing"
   ]
  },
  {
   "cell_type": "code",
   "execution_count": 9,
   "id": "59526d25",
   "metadata": {},
   "outputs": [],
   "source": [
    "tokenizer = Tokenizer(num_words=vocab_size, oov_token=oov_tok)"
   ]
  },
  {
   "cell_type": "code",
   "execution_count": 10,
   "id": "573ce322",
   "metadata": {},
   "outputs": [],
   "source": [
    "tokenizer.fit_on_texts(train_sentences)"
   ]
  },
  {
   "cell_type": "code",
   "execution_count": 11,
   "id": "bd11ca74",
   "metadata": {},
   "outputs": [],
   "source": [
    "train_to_sequences_sentence = tokenizer.texts_to_sequences(train_sentences)"
   ]
  },
  {
   "cell_type": "code",
   "execution_count": 12,
   "id": "43db8ac7",
   "metadata": {},
   "outputs": [],
   "source": [
    "test_to_sequences_sentence = tokenizer.texts_to_sequences(test_sentences)"
   ]
  },
  {
   "cell_type": "code",
   "execution_count": 13,
   "id": "970d59bd",
   "metadata": {},
   "outputs": [
    {
     "name": "stdout",
     "output_type": "stream",
     "text": [
      "[59, 12, 14, 35, 439, 400, 18, 174, 29, 1, 9, 33, 1378, 3401, 42, 496, 1, 197, 25, 88, 156, 19, 12, 211, 340, 29, 70, 248, 213, 9, 486, 62, 70, 88, 116, 99, 24, 1, 12, 3317, 657, 777, 12, 18, 7, 35, 406, 1, 178, 2477, 426, 2, 92, 1253, 140, 72, 149, 55, 2, 1, 1, 72, 229, 70, 2962, 16, 1, 2880, 1, 1, 1506, 4998, 3, 40, 3947, 119, 1608, 17, 3401, 14, 163, 19, 4, 1253, 927, 1, 9, 4, 18, 13, 14, 4200, 5, 102, 148, 1237, 11, 240, 692, 13, 44, 25, 101, 39, 12, 1, 1, 39, 1378, 1, 52, 409, 11, 99, 1214, 874, 145, 10]\n"
     ]
    }
   ],
   "source": [
    "print(train_to_sequences_sentence[0])"
   ]
  },
  {
   "cell_type": "markdown",
   "id": "3af787ef",
   "metadata": {},
   "source": [
    "# Padding"
   ]
  },
  {
   "cell_type": "code",
   "execution_count": 14,
   "id": "ece93704",
   "metadata": {},
   "outputs": [],
   "source": [
    "train_padded = pad_sequences(train_to_sequences_sentence, maxlen= max_length, truncating=trunc_type)"
   ]
  },
  {
   "cell_type": "code",
   "execution_count": 15,
   "id": "59b62381",
   "metadata": {},
   "outputs": [],
   "source": [
    "test_padded = pad_sequences(test_to_sequences_sentence,maxlen= max_length, truncating=trunc_type)"
   ]
  },
  {
   "cell_type": "markdown",
   "id": "ccde5f6e",
   "metadata": {},
   "source": [
    "# Developing the Model"
   ]
  },
  {
   "cell_type": "code",
   "execution_count": 16,
   "id": "fb0f8686",
   "metadata": {},
   "outputs": [],
   "source": [
    "model = Sequential([\n",
    "    Embedding(input_dim=vocab_size, output_dim= embedding_dim , input_length=max_length),\n",
    "    Flatten(),\n",
    "    Dense(n_dense, activation='relu'),\n",
    "    Dropout(dropout_dense),\n",
    "    Dense(1, activation='sigmoid')\n",
    "])\n"
   ]
  },
  {
   "cell_type": "code",
   "execution_count": 17,
   "id": "5d2dbc3e",
   "metadata": {},
   "outputs": [],
   "source": [
    "model.compile(loss='binary_crossentropy', optimizer='nadam', metrics=['accuracy'])\n"
   ]
  },
  {
   "cell_type": "code",
   "execution_count": 18,
   "id": "45d46f70",
   "metadata": {},
   "outputs": [
    {
     "name": "stdout",
     "output_type": "stream",
     "text": [
      "Model: \"sequential\"\n",
      "_________________________________________________________________\n",
      "Layer (type)                 Output Shape              Param #   \n",
      "=================================================================\n",
      "embedding (Embedding)        (None, 120, 64)           320000    \n",
      "_________________________________________________________________\n",
      "flatten (Flatten)            (None, 7680)              0         \n",
      "_________________________________________________________________\n",
      "dense (Dense)                (None, 64)                491584    \n",
      "_________________________________________________________________\n",
      "dropout (Dropout)            (None, 64)                0         \n",
      "_________________________________________________________________\n",
      "dense_1 (Dense)              (None, 1)                 65        \n",
      "=================================================================\n",
      "Total params: 811,649\n",
      "Trainable params: 811,649\n",
      "Non-trainable params: 0\n",
      "_________________________________________________________________\n"
     ]
    }
   ],
   "source": [
    "model.summary()"
   ]
  },
  {
   "cell_type": "code",
   "execution_count": 19,
   "id": "8ea3b610",
   "metadata": {},
   "outputs": [],
   "source": [
    "# modelcheckpoint = ModelCheckpoint(filepath=output_dir+\n",
    "#                                   \"/weights.{epoch:02d}.hdf5\")"
   ]
  },
  {
   "cell_type": "code",
   "execution_count": 20,
   "id": "418f740c",
   "metadata": {},
   "outputs": [],
   "source": [
    "# if not os.path.exists(output_dir):\n",
    "#     os.makedirs(output_dir)"
   ]
  },
  {
   "cell_type": "code",
   "execution_count": 21,
   "id": "a8f06d74",
   "metadata": {},
   "outputs": [
    {
     "name": "stdout",
     "output_type": "stream",
     "text": [
      "Train on 25000 samples, validate on 25000 samples\n",
      "Epoch 1/20\n",
      "25000/25000 [==============================] - 3s 137us/sample - loss: 0.5037 - accuracy: 0.7404 - val_loss: 0.3898 - val_accuracy: 0.8223\n",
      "Epoch 2/20\n",
      "25000/25000 [==============================] - 3s 120us/sample - loss: 0.2421 - accuracy: 0.9080 - val_loss: 0.4694 - val_accuracy: 0.7960\n",
      "Epoch 3/20\n",
      "25000/25000 [==============================] - 3s 122us/sample - loss: 0.0679 - accuracy: 0.9844 - val_loss: 0.5491 - val_accuracy: 0.8050\n",
      "Epoch 4/20\n",
      "25000/25000 [==============================] - 3s 116us/sample - loss: 0.0114 - accuracy: 0.9989 - val_loss: 0.6347 - val_accuracy: 0.8062\n",
      "Epoch 5/20\n",
      "25000/25000 [==============================] - 3s 117us/sample - loss: 0.0032 - accuracy: 1.0000 - val_loss: 0.6897 - val_accuracy: 0.8088\n",
      "Epoch 6/20\n",
      "25000/25000 [==============================] - 3s 121us/sample - loss: 0.0017 - accuracy: 1.0000 - val_loss: 0.7268 - val_accuracy: 0.8086\n",
      "Epoch 7/20\n",
      "25000/25000 [==============================] - 3s 118us/sample - loss: 0.0011 - accuracy: 1.0000 - val_loss: 0.7584 - val_accuracy: 0.8095\n",
      "Epoch 8/20\n",
      "25000/25000 [==============================] - 3s 120us/sample - loss: 7.2604e-04 - accuracy: 1.0000 - val_loss: 0.7842 - val_accuracy: 0.8097\n",
      "Epoch 9/20\n",
      "25000/25000 [==============================] - 3s 115us/sample - loss: 5.4274e-04 - accuracy: 1.0000 - val_loss: 0.8083 - val_accuracy: 0.8098\n",
      "Epoch 10/20\n",
      "25000/25000 [==============================] - 3s 116us/sample - loss: 4.1753e-04 - accuracy: 1.0000 - val_loss: 0.8292 - val_accuracy: 0.8103\n",
      "Epoch 11/20\n",
      "25000/25000 [==============================] - 3s 117us/sample - loss: 3.2921e-04 - accuracy: 1.0000 - val_loss: 0.8488 - val_accuracy: 0.8103\n",
      "Epoch 12/20\n",
      "25000/25000 [==============================] - 3s 115us/sample - loss: 2.6667e-04 - accuracy: 1.0000 - val_loss: 0.8683 - val_accuracy: 0.8103\n",
      "Epoch 13/20\n",
      "25000/25000 [==============================] - 3s 115us/sample - loss: 2.0711e-04 - accuracy: 1.0000 - val_loss: 0.8828 - val_accuracy: 0.8103\n",
      "Epoch 14/20\n",
      "25000/25000 [==============================] - 3s 120us/sample - loss: 1.7897e-04 - accuracy: 1.0000 - val_loss: 0.8994 - val_accuracy: 0.8098\n",
      "Epoch 15/20\n",
      "25000/25000 [==============================] - 3s 114us/sample - loss: 1.5074e-04 - accuracy: 1.0000 - val_loss: 0.9146 - val_accuracy: 0.8104\n",
      "Epoch 16/20\n",
      "25000/25000 [==============================] - 3s 116us/sample - loss: 1.2257e-04 - accuracy: 1.0000 - val_loss: 0.9301 - val_accuracy: 0.8102\n",
      "Epoch 17/20\n",
      "25000/25000 [==============================] - 3s 122us/sample - loss: 1.0629e-04 - accuracy: 1.0000 - val_loss: 0.9437 - val_accuracy: 0.8103\n",
      "Epoch 18/20\n",
      "25000/25000 [==============================] - 3s 121us/sample - loss: 8.9248e-05 - accuracy: 1.0000 - val_loss: 0.9565 - val_accuracy: 0.8104\n",
      "Epoch 19/20\n",
      "25000/25000 [==============================] - 3s 122us/sample - loss: 7.7084e-05 - accuracy: 1.0000 - val_loss: 0.9699 - val_accuracy: 0.8100\n",
      "Epoch 20/20\n",
      "25000/25000 [==============================] - 3s 120us/sample - loss: 6.9203e-05 - accuracy: 1.0000 - val_loss: 0.9849 - val_accuracy: 0.8102\n"
     ]
    }
   ],
   "source": [
    "model_history= model.fit(train_padded, train_label, \n",
    "          batch_size=batch_size, epochs=epochs, verbose=1, \n",
    "          validation_data=(test_padded, test_label)) # callbacks=[modelcheckpoint]"
   ]
  },
  {
   "cell_type": "code",
   "execution_count": 35,
   "id": "9ba59d26",
   "metadata": {},
   "outputs": [
    {
     "data": {
      "image/png": "[encoded data removed]",
      "text/plain": [
       "<Figure size 432x288 with 1 Axes>"
      ]
     },
     "metadata": {
      "needs_background": "light"
     },
     "output_type": "display_data"
    }
   ],
   "source": [
    "plt.plot(model_history.history[\"accuracy\"])\n",
    "plt.plot(model_history.history[\"loss\"])\n",
    "plt.plot(model_history.history[\"val_loss\"])\n",
    "plt.plot(model_history.history[\"val_accuracy\"])\n",
    "plt.legend([[\"accuracy\"], [\"loss\"], [\"val_loss\"], [\"val_accuracy\"]])\n",
    "plt.title(\"Overfitting case of Dense Layer\")\n",
    "plt.show()"
   ]
  },
  {
   "cell_type": "markdown",
   "id": "c3172e1f",
   "metadata": {},
   "source": [
    "##### Failed to find data adapter that can handle input: <class 'numpy.ndarray'>, (<class 'list'> containing values of types {\"<class 'numpy.int64'>\"})"
   ]
  },
  {
   "cell_type": "code",
   "execution_count": null,
   "id": "4a425804",
   "metadata": {},
   "outputs": [],
   "source": [
    "#model.load_weights(output_dir+\"/weights.01.hdf5\")"
   ]
  },
  {
   "cell_type": "code",
   "execution_count": 36,
   "id": "0d64ef00",
   "metadata": {},
   "outputs": [],
   "source": [
    "y_hat = model.predict_proba(test_padded)"
   ]
  },
  {
   "cell_type": "code",
   "execution_count": 37,
   "id": "de7242f8",
   "metadata": {},
   "outputs": [
    {
     "data": {
      "text/plain": [
       "array([[8.8805515e-01],\n",
       "       [8.9498723e-01],\n",
       "       [3.8582359e-05],\n",
       "       ...,\n",
       "       [6.0155133e-07],\n",
       "       [9.9819463e-01],\n",
       "       [9.9999583e-01]], dtype=float32)"
      ]
     },
     "execution_count": 37,
     "metadata": {},
     "output_type": "execute_result"
    }
   ],
   "source": [
    "y_hat"
   ]
  },
  {
   "cell_type": "code",
   "execution_count": 38,
   "id": "0452ca67",
   "metadata": {},
   "outputs": [
    {
     "data": {
      "text/plain": [
       "array([0.88805515], dtype=float32)"
      ]
     },
     "execution_count": 38,
     "metadata": {},
     "output_type": "execute_result"
    }
   ],
   "source": [
    "y_hat[0]"
   ]
  },
  {
   "cell_type": "code",
   "execution_count": 39,
   "id": "583950a2",
   "metadata": {},
   "outputs": [
    {
     "data": {
      "text/plain": [
       "array([1, 1, 0, 0, 1, 1, 1, 1, 0, 1])"
      ]
     },
     "execution_count": 39,
     "metadata": {},
     "output_type": "execute_result"
    }
   ],
   "source": [
    "test_label[0:10]"
   ]
  },
  {
   "cell_type": "code",
   "execution_count": 42,
   "id": "3e05cdb8",
   "metadata": {},
   "outputs": [
    {
     "name": "stdout",
     "output_type": "stream",
     "text": [
      "['0.89%']\n",
      "['0.89%']\n",
      "['0.00%']\n",
      "['0.00%']\n",
      "['1.00%']\n",
      "['1.00%']\n",
      "['1.00%']\n",
      "['1.00%']\n",
      "['0.45%']\n",
      "['0.00%']\n"
     ]
    }
   ],
   "source": [
    "for i in range(len(y_hat[0:10])):\n",
    "    print(list(map('{:.2f}%'.format,y_hat[i])))"
   ]
  },
  {
   "cell_type": "code",
   "execution_count": 43,
   "id": "5a60231f",
   "metadata": {},
   "outputs": [
    {
     "data": {
      "image/png": "[encoded data removed]",
      "text/plain": [
       "<Figure size 432x288 with 1 Axes>"
      ]
     },
     "metadata": {
      "needs_background": "light"
     },
     "output_type": "display_data"
    }
   ],
   "source": [
    "plt.hist(y_hat)\n",
    "_ = plt.axvline(x = 0.5, color = \"orange\")"
   ]
  },
  {
   "cell_type": "code",
   "execution_count": 44,
   "id": "7775afcf",
   "metadata": {},
   "outputs": [],
   "source": [
    "pct_auc = roc_auc_score(test_label,y_hat)*100"
   ]
  },
  {
   "cell_type": "code",
   "execution_count": 45,
   "id": "2a806cf6",
   "metadata": {},
   "outputs": [
    {
     "name": "stdout",
     "output_type": "stream",
     "text": [
      "89.2358448\n"
     ]
    }
   ],
   "source": [
    "print(pct_auc)"
   ]
  },
  {
   "cell_type": "code",
   "execution_count": null,
   "id": "a527679d",
   "metadata": {},
   "outputs": [],
   "source": []
  },
  {
   "cell_type": "markdown",
   "id": "85bed5e7",
   "metadata": {},
   "source": [
    "# Sample Test"
   ]
  },
  {
   "cell_type": "code",
   "execution_count": 56,
   "id": "63916f75",
   "metadata": {},
   "outputs": [],
   "source": [
    "sentence_1 = [\"This movie is the worst thing ever I watched\",\n",
    "           \"I hate the actor in this movie. But the movie is great\",\n",
    "              \"This movie is fucking awful\",\n",
    "              \"This movie is the most terrible movie i have watched with horrible actor\",\n",
    "           \"Do not watch this movie because this movie is really bad\",\n",
    "           \"Fuck this movie. It is really bad\",\n",
    "           \"This movie is the best\"]"
   ]
  },
  {
   "cell_type": "code",
   "execution_count": 57,
   "id": "a17dc7e6",
   "metadata": {},
   "outputs": [],
   "source": [
    "sentence_1_text_to_sequence = tokenizer.texts_to_sequences(sentence_1)"
   ]
  },
  {
   "cell_type": "code",
   "execution_count": 58,
   "id": "74add026",
   "metadata": {},
   "outputs": [],
   "source": [
    "sentence_1_sequence_padded = pad_sequences(sentence_1_text_to_sequence,maxlen = max_length)"
   ]
  },
  {
   "cell_type": "code",
   "execution_count": 59,
   "id": "e26be7ab",
   "metadata": {},
   "outputs": [
    {
     "data": {
      "text/plain": [
       "array([[8.5721374e-05],\n",
       "       [3.9682522e-01],\n",
       "       [2.4109920e-04],\n",
       "       [1.4656284e-05],\n",
       "       [5.3285493e-04],\n",
       "       [1.5323880e-03],\n",
       "       [7.7869391e-01]], dtype=float32)"
      ]
     },
     "execution_count": 59,
     "metadata": {},
     "output_type": "execute_result"
    }
   ],
   "source": [
    "output_probabilities= model.predict_proba(sentence_1_sequence_padded)\n",
    "output_probabilities"
   ]
  },
  {
   "cell_type": "code",
   "execution_count": 60,
   "id": "d2cf64f5",
   "metadata": {},
   "outputs": [
    {
     "name": "stdout",
     "output_type": "stream",
     "text": [
      "\n",
      "\n",
      "This movie is the worst thing ever I watched \n",
      " ['0.00%']\n",
      "\n",
      "\n",
      "I hate the actor in this movie. But the movie is great \n",
      " ['0.40%']\n",
      "\n",
      "\n",
      "This movie is fucking awful \n",
      " ['0.00%']\n",
      "\n",
      "\n",
      "This movie is the most terrible movie i have watched with horrible actor \n",
      " ['0.00%']\n",
      "\n",
      "\n",
      "Do not watch this movie because this movie is really bad \n",
      " ['0.00%']\n",
      "\n",
      "\n",
      "Fuck this movie. It is really bad \n",
      " ['0.00%']\n",
      "\n",
      "\n",
      "This movie is the best \n",
      " ['0.78%']\n"
     ]
    }
   ],
   "source": [
    "for i in range(len(output_probabilities)):\n",
    "    print(\"\\n\")\n",
    "    print(sentence_1[i], \"\\n\", list(map('{:.2f}%'.format,output_probabilities[i])))"
   ]
  },
  {
   "cell_type": "code",
   "execution_count": null,
   "id": "73bbcaf5",
   "metadata": {},
   "outputs": [],
   "source": []
  }
 ],
 "metadata": {
  "kernelspec": {
   "display_name": "Python 3",
   "language": "python",
   "name": "python3"
  },
  "language_info": {
   "codemirror_mode": {
    "name": "ipython",
    "version": 3
   },
   "file_extension": ".py",
   "mimetype": "text/x-python",
   "name": "python",
   "nbconvert_exporter": "python",
   "pygments_lexer": "ipython3",
   "version": "3.7.7"
  }
 },
 "nbformat": 4,
 "nbformat_minor": 5
}
